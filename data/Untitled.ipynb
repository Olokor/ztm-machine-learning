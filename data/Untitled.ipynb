{
 "cells": [
  {
   "cell_type": "markdown",
   "id": "46c1a6c2-6b09-4a97-beeb-f2d33f90cce2",
   "metadata": {},
   "source": [
    "working with unstructured data"
   ]
  },
  {
   "cell_type": "code",
   "execution_count": 4,
   "id": "2eb33876-52f0-4c84-97fe-70657e1400ea",
   "metadata": {},
   "outputs": [
    {
     "name": "stdout",
     "output_type": "stream",
     "text": [
      "version 2.12.0\n",
      "[]\n"
     ]
    }
   ],
   "source": [
    "import tensorflow as tf\n",
    "print(f\"version {tf.__version__}\")\n",
    "\n",
    "print(tf.config.list_physical_devices(\"GPU\"))"
   ]
  }
 ],
 "metadata": {
  "kernelspec": {
   "display_name": "Python 3 (ipykernel)",
   "language": "python",
   "name": "python3"
  },
  "language_info": {
   "codemirror_mode": {
    "name": "ipython",
    "version": 3
   },
   "file_extension": ".py",
   "mimetype": "text/x-python",
   "name": "python",
   "nbconvert_exporter": "python",
   "pygments_lexer": "ipython3",
   "version": "3.11.5"
  }
 },
 "nbformat": 4,
 "nbformat_minor": 5
}
